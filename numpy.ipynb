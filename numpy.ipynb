{
 "cells": [
  {
   "cell_type": "code",
   "execution_count": 5,
   "metadata": {},
   "outputs": [
    {
     "name": "stdout",
     "output_type": "stream",
     "text": [
      "[[0. 0. 0.]\n",
      " [0. 0. 0.]]\n"
     ]
    }
   ],
   "source": [
    "import numpy as np\n",
    "a1 = np.zeros((2,3))\n",
    "print(a1)"
   ]
  },
  {
   "cell_type": "code",
   "execution_count": 8,
   "metadata": {},
   "outputs": [
    {
     "name": "stdout",
     "output_type": "stream",
     "text": [
      "[[1. 1. 1.]\n",
      " [1. 1. 1.]]\n"
     ]
    }
   ],
   "source": [
    "a2 = np.ones((2,3))\n",
    "print(a2)"
   ]
  },
  {
   "cell_type": "code",
   "execution_count": 11,
   "metadata": {},
   "outputs": [
    {
     "name": "stdout",
     "output_type": "stream",
     "text": [
      "[[22 22]\n",
      " [22 22]\n",
      " [22 22]\n",
      " [22 22]\n",
      " [22 22]]\n"
     ]
    }
   ],
   "source": [
    "a3 = np.full((5,2),22)\n",
    "print(a3)"
   ]
  },
  {
   "cell_type": "code",
   "execution_count": 15,
   "metadata": {},
   "outputs": [
    {
     "name": "stdout",
     "output_type": "stream",
     "text": [
      "[2 4 6 8]\n"
     ]
    }
   ],
   "source": [
    "ar = np.arange(2,10,2)\n",
    "print(ar)"
   ]
  },
  {
   "cell_type": "code",
   "execution_count": 20,
   "metadata": {},
   "outputs": [
    {
     "name": "stdout",
     "output_type": "stream",
     "text": [
      "[ 7  2  5 16  5]\n"
     ]
    }
   ],
   "source": [
    "ar = np.random.randint(2,20,5)\n",
    "print(ar)"
   ]
  },
  {
   "cell_type": "code",
   "execution_count": 31,
   "metadata": {},
   "outputs": [
    {
     "name": "stdout",
     "output_type": "stream",
     "text": [
      "(10,)\n",
      "10\n",
      "(5, 2)\n",
      "[[12 23]\n",
      " [34 45]\n",
      " [56 67]\n",
      " [78 89]\n",
      " [90 99]]\n"
     ]
    }
   ],
   "source": [
    "ar = np.array([12,23,34,45,56,67,78,89,90,99])\n",
    "print(ar.shape)\n",
    "print(len(ar))\n",
    "ar.shape = (5,2)\n",
    "print(ar.shape)\n",
    "print(ar)"
   ]
  },
  {
   "cell_type": "code",
   "execution_count": 38,
   "metadata": {},
   "outputs": [
    {
     "name": "stdout",
     "output_type": "stream",
     "text": [
      "[[10 20 30 40 50]\n",
      " [10 20 30 40 50]]\n"
     ]
    }
   ],
   "source": [
    "ar1 = np.array([10,20,30,40,50])\n",
    "ar2 = np.array([60,70,80,90,100])\n",
    "aa = np.vstack((ar1,ar1))\n",
    "print(aa)"
   ]
  },
  {
   "cell_type": "code",
   "execution_count": 39,
   "metadata": {},
   "outputs": [
    {
     "name": "stdout",
     "output_type": "stream",
     "text": [
      "[10 20 30 40 50 10 20 30 40 50]\n"
     ]
    }
   ],
   "source": [
    "ar1 = np.array([10,20,30,40,50])\n",
    "ar2 = np.array([60,70,80,90,100])\n",
    "aa = np.hstack((ar1,ar1))\n",
    "print(aa)"
   ]
  },
  {
   "cell_type": "code",
   "execution_count": 41,
   "metadata": {},
   "outputs": [
    {
     "name": "stdout",
     "output_type": "stream",
     "text": [
      "[[ 10  60]\n",
      " [ 20  70]\n",
      " [ 30  80]\n",
      " [ 40  90]\n",
      " [ 50 100]]\n"
     ]
    }
   ],
   "source": [
    "ar1 = np.array([10,20,30,40,50])\n",
    "ar2 = np.array([60,70,80,90,100])\n",
    "aa = np.column_stack((ar1,ar2))\n",
    "print(aa)"
   ]
  },
  {
   "cell_type": "code",
   "execution_count": 49,
   "metadata": {},
   "outputs": [
    {
     "name": "stdout",
     "output_type": "stream",
     "text": [
      "[12 34]\n"
     ]
    }
   ],
   "source": [
    "ar3 = np.array([12,34,45,55])\n",
    "ar4 = np.array([12,22,334,34,33])\n",
    "ara = np.intersect1d(ar3,ar4)\n",
    "print(ara)"
   ]
  },
  {
   "cell_type": "code",
   "execution_count": 54,
   "metadata": {},
   "outputs": [
    {
     "name": "stdout",
     "output_type": "stream",
     "text": [
      "[]\n"
     ]
    }
   ],
   "source": [
    "ara1 = np.array([1,2,3,4,5,6])\n",
    "ara2 = np.array([12,23,34,45,44,1,2,3,4])\n",
    "print(np.setdiff1d(ara2,ara2))"
   ]
  },
  {
   "cell_type": "code",
   "execution_count": 61,
   "metadata": {},
   "outputs": [
    {
     "name": "stdout",
     "output_type": "stream",
     "text": [
      "[112 350]\n"
     ]
    }
   ],
   "source": [
    "ar5 = np.array([12,10,20,30,40])\n",
    "ar6 = np.array([50,60,70,80,90])\n",
    "a = np.sum([ar5,ar6],axis = 1)\n",
    "print(a)"
   ]
  },
  {
   "cell_type": "code",
   "execution_count": 69,
   "metadata": {},
   "outputs": [
    {
     "name": "stdout",
     "output_type": "stream",
     "text": [
      "[ 3  6 10 13 16]\n"
     ]
    }
   ],
   "source": [
    "a1 = np.array([10,20,30,40,50])\n",
    "a  = (a1//3)\n",
    "print(a)"
   ]
  },
  {
   "cell_type": "code",
   "execution_count": 73,
   "metadata": {},
   "outputs": [
    {
     "name": "stdout",
     "output_type": "stream",
     "text": [
      "39.75\n",
      "39.0\n",
      "18.952242611363964\n"
     ]
    }
   ],
   "source": [
    "a = np.array([10,20,30,45,33,50,60,70])\n",
    "mean_numpy = np.mean(a)\n",
    "print(mean_numpy)\n",
    "print(np.median(a))\n",
    "print(np.std(a))"
   ]
  },
  {
   "cell_type": "code",
   "execution_count": 79,
   "metadata": {},
   "outputs": [
    {
     "name": "stdout",
     "output_type": "stream",
     "text": [
      "None\n",
      "[10 20 30 40 50]\n"
     ]
    }
   ],
   "source": [
    "aar22 = np.array([10,20,30,40,50])\n",
    "save_of = np.save('my_numpy',aar22)\n",
    "load_of = np.load('my_numpy.npy')\n",
    "print(save_of)\n",
    "print(load_of)\n"
   ]
  },
  {
   "cell_type": "code",
   "execution_count": null,
   "metadata": {},
   "outputs": [],
   "source": []
  }
 ],
 "metadata": {
  "kernelspec": {
   "display_name": "Python 3",
   "language": "python",
   "name": "python3"
  },
  "language_info": {
   "codemirror_mode": {
    "name": "ipython",
    "version": 3
   },
   "file_extension": ".py",
   "mimetype": "text/x-python",
   "name": "python",
   "nbconvert_exporter": "python",
   "pygments_lexer": "ipython3",
   "version": "3.8.5"
  }
 },
 "nbformat": 4,
 "nbformat_minor": 4
}
